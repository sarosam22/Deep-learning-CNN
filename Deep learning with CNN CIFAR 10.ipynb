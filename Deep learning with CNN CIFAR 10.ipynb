{
 "cells": [
  {
   "cell_type": "markdown",
   "id": "bc28f063",
   "metadata": {},
   "source": [
    "<h4>Import the necessary libraries and datasets</h4>"
   ]
  },
  {
   "cell_type": "code",
   "execution_count": 4,
   "id": "227676da",
   "metadata": {},
   "outputs": [],
   "source": [
    "import numpy as np\n",
    "from tensorflow.keras import datasets, utils\n",
    "from tensorflow.keras import models, layers"
   ]
  },
  {
   "cell_type": "markdown",
   "id": "f802b83f",
   "metadata": {},
   "source": [
    "<h4>Split into test abd train</h4>"
   ]
  },
  {
   "cell_type": "code",
   "execution_count": 6,
   "id": "cbb45e38",
   "metadata": {
    "scrolled": false
   },
   "outputs": [
    {
     "name": "stdout",
     "output_type": "stream",
     "text": [
      "Downloading data from https://www.cs.toronto.edu/~kriz/cifar-10-python.tar.gz\n",
      "170498071/170498071 [==============================] - 6s 0us/step\n"
     ]
    }
   ],
   "source": [
    "(x_train, y_train), (x_test, y_test) = datasets.cifar10.load_data()"
   ]
  },
  {
   "cell_type": "code",
   "execution_count": 11,
   "id": "6c931c82",
   "metadata": {},
   "outputs": [],
   "source": [
    "NUM_CLASSES = 10\n",
    "x_train = x_train.astype('float32')/255.0\n",
    "x_test = x_train.astype('float32')/255.0\n",
    "\n",
    "y_train = utils.to_categorical(y_train, NUM_CLASSES)\n",
    "y_test = utils.to_categorical(y_test, NUM_CLASSES)"
   ]
  },
  {
   "cell_type": "markdown",
   "id": "50bf0723",
   "metadata": {},
   "source": [
    "<h4>Build a sequential model</h4>"
   ]
  },
  {
   "cell_type": "code",
   "execution_count": null,
   "id": "ffefaf65",
   "metadata": {},
   "outputs": [],
   "source": [
    "model = models.Sequential([\n",
    "    layers.Flatten(input_shape=(32,32,3)),\n",
    "    layers.Dense()\n",
    "])"
   ]
  }
 ],
 "metadata": {
  "kernelspec": {
   "display_name": "Python 3 (ipykernel)",
   "language": "python",
   "name": "python3"
  },
  "language_info": {
   "codemirror_mode": {
    "name": "ipython",
    "version": 3
   },
   "file_extension": ".py",
   "mimetype": "text/x-python",
   "name": "python",
   "nbconvert_exporter": "python",
   "pygments_lexer": "ipython3",
   "version": "3.11.5"
  }
 },
 "nbformat": 4,
 "nbformat_minor": 5
}
